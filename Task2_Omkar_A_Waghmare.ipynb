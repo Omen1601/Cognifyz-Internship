{
 "cells": [
  {
   "cell_type": "markdown",
   "id": "1c7753e3",
   "metadata": {},
   "source": [
    "# TASK 2 : Restaurant Recomendation"
   ]
  },
  {
   "cell_type": "code",
   "execution_count": 9,
   "id": "4159cda0",
   "metadata": {},
   "outputs": [],
   "source": [
    "import pandas as pd\n",
    "from sklearn.preprocessing import LabelEncoder"
   ]
  },
  {
   "cell_type": "code",
   "execution_count": 10,
   "id": "cc22a5df",
   "metadata": {},
   "outputs": [],
   "source": [
    "df = pd.read_csv(r\"C:\\Users\\Omkar Waghmare\\OneDrive\\Desktop\\WORK\\COGNIFYZ intern\\Dataset .csv\")"
   ]
  },
  {
   "cell_type": "code",
   "execution_count": 11,
   "id": "a9664ab4",
   "metadata": {},
   "outputs": [
    {
     "data": {
      "text/html": [
       "<div>\n",
       "<style scoped>\n",
       "    .dataframe tbody tr th:only-of-type {\n",
       "        vertical-align: middle;\n",
       "    }\n",
       "\n",
       "    .dataframe tbody tr th {\n",
       "        vertical-align: top;\n",
       "    }\n",
       "\n",
       "    .dataframe thead th {\n",
       "        text-align: right;\n",
       "    }\n",
       "</style>\n",
       "<table border=\"1\" class=\"dataframe\">\n",
       "  <thead>\n",
       "    <tr style=\"text-align: right;\">\n",
       "      <th></th>\n",
       "      <th>Restaurant ID</th>\n",
       "      <th>Restaurant Name</th>\n",
       "      <th>Country Code</th>\n",
       "      <th>City</th>\n",
       "      <th>Address</th>\n",
       "      <th>Locality</th>\n",
       "      <th>Locality Verbose</th>\n",
       "      <th>Longitude</th>\n",
       "      <th>Latitude</th>\n",
       "      <th>Cuisines</th>\n",
       "      <th>...</th>\n",
       "      <th>Currency</th>\n",
       "      <th>Has Table booking</th>\n",
       "      <th>Has Online delivery</th>\n",
       "      <th>Is delivering now</th>\n",
       "      <th>Switch to order menu</th>\n",
       "      <th>Price range</th>\n",
       "      <th>Aggregate rating</th>\n",
       "      <th>Rating color</th>\n",
       "      <th>Rating text</th>\n",
       "      <th>Votes</th>\n",
       "    </tr>\n",
       "  </thead>\n",
       "  <tbody>\n",
       "    <tr>\n",
       "      <th>1891</th>\n",
       "      <td>18441701</td>\n",
       "      <td>Wow! Momo</td>\n",
       "      <td>1</td>\n",
       "      <td>Gurgaon</td>\n",
       "      <td>Shop 214, Huda Market, Sector 31, Gurgaon</td>\n",
       "      <td>Sector 31</td>\n",
       "      <td>Sector 31, Gurgaon</td>\n",
       "      <td>77.050958</td>\n",
       "      <td>28.453489</td>\n",
       "      <td>Chinese, Tibetan</td>\n",
       "      <td>...</td>\n",
       "      <td>Indian Rupees(Rs.)</td>\n",
       "      <td>No</td>\n",
       "      <td>No</td>\n",
       "      <td>No</td>\n",
       "      <td>No</td>\n",
       "      <td>1</td>\n",
       "      <td>2.9</td>\n",
       "      <td>Orange</td>\n",
       "      <td>Average</td>\n",
       "      <td>9</td>\n",
       "    </tr>\n",
       "    <tr>\n",
       "      <th>7458</th>\n",
       "      <td>18244564</td>\n",
       "      <td>Foodaholic</td>\n",
       "      <td>1</td>\n",
       "      <td>New Delhi</td>\n",
       "      <td>ED 118, Tagore Garden, New Delhi</td>\n",
       "      <td>Tagore Garden</td>\n",
       "      <td>Tagore Garden, New Delhi</td>\n",
       "      <td>77.115140</td>\n",
       "      <td>28.648811</td>\n",
       "      <td>Chinese, North Indian</td>\n",
       "      <td>...</td>\n",
       "      <td>Indian Rupees(Rs.)</td>\n",
       "      <td>No</td>\n",
       "      <td>No</td>\n",
       "      <td>No</td>\n",
       "      <td>No</td>\n",
       "      <td>1</td>\n",
       "      <td>0.0</td>\n",
       "      <td>White</td>\n",
       "      <td>Not rated</td>\n",
       "      <td>1</td>\n",
       "    </tr>\n",
       "    <tr>\n",
       "      <th>8196</th>\n",
       "      <td>18382347</td>\n",
       "      <td>My Corn</td>\n",
       "      <td>1</td>\n",
       "      <td>Noida</td>\n",
       "      <td>C-28/29, Food Court, Tower B, Logix Cyber Park...</td>\n",
       "      <td>Logix Cyber Park, Sector 62, Noida</td>\n",
       "      <td>Logix Cyber Park, Sector 62, Noida, Noida</td>\n",
       "      <td>77.366672</td>\n",
       "      <td>28.612740</td>\n",
       "      <td>Fast Food</td>\n",
       "      <td>...</td>\n",
       "      <td>Indian Rupees(Rs.)</td>\n",
       "      <td>No</td>\n",
       "      <td>No</td>\n",
       "      <td>No</td>\n",
       "      <td>No</td>\n",
       "      <td>1</td>\n",
       "      <td>0.0</td>\n",
       "      <td>White</td>\n",
       "      <td>Not rated</td>\n",
       "      <td>0</td>\n",
       "    </tr>\n",
       "  </tbody>\n",
       "</table>\n",
       "<p>3 rows × 21 columns</p>\n",
       "</div>"
      ],
      "text/plain": [
       "      Restaurant ID Restaurant Name  Country Code       City  \\\n",
       "1891       18441701       Wow! Momo             1    Gurgaon   \n",
       "7458       18244564      Foodaholic             1  New Delhi   \n",
       "8196       18382347         My Corn             1      Noida   \n",
       "\n",
       "                                                Address  \\\n",
       "1891          Shop 214, Huda Market, Sector 31, Gurgaon   \n",
       "7458                   ED 118, Tagore Garden, New Delhi   \n",
       "8196  C-28/29, Food Court, Tower B, Logix Cyber Park...   \n",
       "\n",
       "                                Locality  \\\n",
       "1891                           Sector 31   \n",
       "7458                       Tagore Garden   \n",
       "8196  Logix Cyber Park, Sector 62, Noida   \n",
       "\n",
       "                               Locality Verbose  Longitude   Latitude  \\\n",
       "1891                         Sector 31, Gurgaon  77.050958  28.453489   \n",
       "7458                   Tagore Garden, New Delhi  77.115140  28.648811   \n",
       "8196  Logix Cyber Park, Sector 62, Noida, Noida  77.366672  28.612740   \n",
       "\n",
       "                   Cuisines  ...            Currency Has Table booking  \\\n",
       "1891       Chinese, Tibetan  ...  Indian Rupees(Rs.)                No   \n",
       "7458  Chinese, North Indian  ...  Indian Rupees(Rs.)                No   \n",
       "8196              Fast Food  ...  Indian Rupees(Rs.)                No   \n",
       "\n",
       "     Has Online delivery Is delivering now Switch to order menu Price range  \\\n",
       "1891                  No                No                   No           1   \n",
       "7458                  No                No                   No           1   \n",
       "8196                  No                No                   No           1   \n",
       "\n",
       "      Aggregate rating  Rating color Rating text Votes  \n",
       "1891               2.9        Orange     Average     9  \n",
       "7458               0.0         White   Not rated     1  \n",
       "8196               0.0         White   Not rated     0  \n",
       "\n",
       "[3 rows x 21 columns]"
      ]
     },
     "execution_count": 11,
     "metadata": {},
     "output_type": "execute_result"
    }
   ],
   "source": [
    "df.sample(3)"
   ]
  },
  {
   "cell_type": "markdown",
   "id": "e45ea764",
   "metadata": {},
   "source": [
    "**Preprocessing data**"
   ]
  },
  {
   "cell_type": "code",
   "execution_count": 12,
   "id": "12a14a8a",
   "metadata": {},
   "outputs": [
    {
     "name": "stdout",
     "output_type": "stream",
     "text": [
      "   Restaurant ID         Restaurant Name  Country Code  City  \\\n",
      "0        6317637        Le Petit Souffle           162    73   \n",
      "1        6304287        Izakaya Kikufuji           162    73   \n",
      "2        6300002  Heat - Edsa Shangri-La           162    75   \n",
      "3        6318506                    Ooma           162    75   \n",
      "4        6314302             Sambo Kojin           162    75   \n",
      "\n",
      "                                             Address  Locality  \\\n",
      "0  Third Floor, Century City Mall, Kalayaan Avenu...       171   \n",
      "1  Little Tokyo, 2277 Chino Roces Avenue, Legaspi...       593   \n",
      "2  Edsa Shangri-La, 1 Garden Way, Ortigas, Mandal...       308   \n",
      "3  Third Floor, Mega Fashion Hall, SM Megamall, O...       862   \n",
      "4  Third Floor, Mega Atrium, SM Megamall, Ortigas...       862   \n",
      "\n",
      "   Locality Verbose   Longitude   Latitude  Cuisines  ...  Currency  \\\n",
      "0               172  121.027535  14.565443       920  ...         0   \n",
      "1               601  121.014101  14.553708      1111  ...         0   \n",
      "2               314  121.056831  14.581404      1672  ...         0   \n",
      "3               875  121.056475  14.585318      1126  ...         0   \n",
      "4               875  121.057508  14.584450      1122  ...         0   \n",
      "\n",
      "   Has Table booking Has Online delivery Is delivering now  \\\n",
      "0                Yes                  No                No   \n",
      "1                Yes                  No                No   \n",
      "2                Yes                  No                No   \n",
      "3                 No                  No                No   \n",
      "4                Yes                  No                No   \n",
      "\n",
      "  Switch to order menu Price range  Aggregate rating  Rating color  \\\n",
      "0                   No           3               4.8             0   \n",
      "1                   No           3               4.5             0   \n",
      "2                   No           4               4.4             1   \n",
      "3                   No           4               4.9             0   \n",
      "4                   No           4               4.8             0   \n",
      "\n",
      "   Rating text  Votes  \n",
      "0            1    314  \n",
      "1            1    591  \n",
      "2            5    270  \n",
      "3            1    365  \n",
      "4            1    229  \n",
      "\n",
      "[5 rows x 21 columns]\n"
     ]
    }
   ],
   "source": [
    "df['Cuisines'].fillna('Not Specified', inplace=True)\n",
    "\n",
    "label_encoder = LabelEncoder()\n",
    "categorical_columns = ['City', 'Locality', 'Locality Verbose', 'Cuisines', 'Currency', 'Rating color', 'Rating text']\n",
    "\n",
    "for column in categorical_columns:\n",
    "    df[column] = label_encoder.fit_transform(df[column])\n",
    "print(df.head())"
   ]
  },
  {
   "cell_type": "markdown",
   "id": "b146b551",
   "metadata": {},
   "source": [
    "**Determining criteria for restaurant recommendation**"
   ]
  },
  {
   "cell_type": "code",
   "execution_count": 13,
   "id": "4dc9de37",
   "metadata": {},
   "outputs": [
    {
     "name": "stdout",
     "output_type": "stream",
     "text": [
      "Recommended Restaurants:\n",
      "Empty DataFrame\n",
      "Columns: [Restaurant Name, Cuisines, Price range, Aggregate rating]\n",
      "Index: []\n"
     ]
    }
   ],
   "source": [
    "user_preferences = {\n",
    "    'Cuisine Preference': 'Italian',  \n",
    "    'Price Range': 2, \n",
    "    'Minimum Rating': 4.0 \n",
    "}\n",
    "\n",
    "filtered_restaurants = df[\n",
    "    (df['Cuisines'].astype(str).str.contains(user_preferences['Cuisine Preference'], case=False)) &\n",
    "    (df['Price range'] <= user_preferences['Price Range']) &\n",
    "    (df['Aggregate rating'] >= user_preferences['Minimum Rating'])\n",
    "]\n",
    "\n",
    "print(\"Recommended Restaurants:\")\n",
    "print(filtered_restaurants[['Restaurant Name', 'Cuisines', 'Price range', 'Aggregate rating']].head())\n"
   ]
  },
  {
   "cell_type": "code",
   "execution_count": 14,
   "id": "ecbb50b1",
   "metadata": {},
   "outputs": [
    {
     "name": "stdout",
     "output_type": "stream",
     "text": [
      "Recommended Restaurants with Adjusted Preferences:\n",
      "                Restaurant Name  Cuisines  Price range  Aggregate rating\n",
      "18   Hobing Korean Dessert Cafe       452            2               4.5\n",
      "56                   Leme Light       257            2               4.2\n",
      "104       Mama's Boy Restaurant      1739            1               4.5\n",
      "105                   Sr. Sol 1      1212            1               4.6\n",
      "108         Big City Bread Cafe       282            1               4.3\n"
     ]
    }
   ],
   "source": [
    "user_preferences_adjusted = {\n",
    "    'Price Range': 2, \n",
    "    'Minimum Rating': 4.0  \n",
    "}\n",
    "\n",
    "filtered_restaurants_adjusted = df[\n",
    "    (df['Price range'] <= user_preferences_adjusted['Price Range']) &\n",
    "    (df['Aggregate rating'] >= user_preferences_adjusted['Minimum Rating'])\n",
    "]\n",
    "\n",
    "print(\"Recommended Restaurants with Adjusted Preferences:\")\n",
    "print(filtered_restaurants_adjusted[['Restaurant Name', 'Cuisines', 'Price range', 'Aggregate rating']].head())\n"
   ]
  },
  {
   "cell_type": "markdown",
   "id": "87f5be74",
   "metadata": {},
   "source": [
    "**content-based filtering approach**"
   ]
  },
  {
   "cell_type": "code",
   "execution_count": 15,
   "id": "b8eb9048",
   "metadata": {},
   "outputs": [
    {
     "name": "stdout",
     "output_type": "stream",
     "text": [
      "Content-Based Recommendations:\n",
      "                                Restaurant Name  Cuisines Price range  \\\n",
      "3188  Cake Central - Premier Cake Design Studio       186           1   \n",
      "3186                                    Barista       331           2   \n",
      "3185                          Anil Mishtan Wala      1262           1   \n",
      "3184                                   Aka Saka       533           3   \n",
      "3183                             RR China Tawun       497           1   \n",
      "\n",
      "     Aggregate rating  \n",
      "3188              3.4  \n",
      "3186              3.3  \n",
      "3185              3.1  \n",
      "3184              3.3  \n",
      "3183              0.0  \n"
     ]
    }
   ],
   "source": [
    "from sklearn.feature_extraction.text import TfidfVectorizer\n",
    "from sklearn.metrics.pairwise import linear_kernel\n",
    "\n",
    "df['Cuisines'].fillna('Not Specified', inplace=True)\n",
    "\n",
    "df['Price range'] = df['Price range'].astype(str)\n",
    "df['Aggregate rating'] = df['Aggregate rating'].astype(str)\n",
    "\n",
    "df['Features'] = df.apply(lambda row: f\"{row['Cuisines']} {row['Price range']} {row['Aggregate rating']}\", axis=1)\n",
    "\n",
    "tfidf_vectorizer = TfidfVectorizer(stop_words='english')\n",
    "tfidf_matrix = tfidf_vectorizer.fit_transform(df['Features'])\n",
    "\n",
    "cosine_similarities = linear_kernel(tfidf_matrix, tfidf_matrix)\n",
    "\n",
    "def recommend_restaurants(user_preferences, cosine_similarities, df):\n",
    "    query = f\"{user_preferences['Cuisine Preference']} {user_preferences['Price Range']} {user_preferences['Minimum Rating']}\"\n",
    "\n",
    "    query_vector = tfidf_vectorizer.transform([query])\n",
    "\n",
    "    cosine_similarities_query = linear_kernel(query_vector, tfidf_matrix).flatten()\n",
    "\n",
    "    restaurant_indices = cosine_similarities_query.argsort()[::-1]\n",
    "\n",
    "    recommended_indices = restaurant_indices[1:]\n",
    "\n",
    "    top_recommendations = df.iloc[recommended_indices].head(user_preferences['Top N Recommendations'])\n",
    "    \n",
    "    return top_recommendations[['Restaurant Name', 'Cuisines', 'Price range', 'Aggregate rating']]\n",
    "\n",
    "user_preferences_content_based = {\n",
    "    'Cuisine Preference': 'Italian',\n",
    "    'Price Range': '2',\n",
    "    'Minimum Rating': '4.0',\n",
    "    'Top N Recommendations': 5\n",
    "}\n",
    "\n",
    "content_based_recommendations = recommend_restaurants(user_preferences_content_based, cosine_similarities, df)\n",
    "\n",
    "print(\"Content-Based Recommendations:\")\n",
    "print(content_based_recommendations)\n"
   ]
  },
  {
   "cell_type": "markdown",
   "id": "23f0cdb4",
   "metadata": {},
   "source": [
    "**Test the recommendation system**"
   ]
  },
  {
   "cell_type": "code",
   "execution_count": 16,
   "id": "9418c2e6",
   "metadata": {},
   "outputs": [
    {
     "name": "stdout",
     "output_type": "stream",
     "text": [
      "Sample Recommendations:\n",
      "                                Restaurant Name  Cuisines Price range  \\\n",
      "3188  Cake Central - Premier Cake Design Studio       186           1   \n",
      "3186                                    Barista       331           2   \n",
      "3185                          Anil Mishtan Wala      1262           1   \n",
      "3184                                   Aka Saka       533           3   \n",
      "3183                             RR China Tawun       497           1   \n",
      "\n",
      "     Aggregate rating  \n",
      "3188              3.4  \n",
      "3186              3.3  \n",
      "3185              3.1  \n",
      "3184              3.3  \n",
      "3183              0.0  \n"
     ]
    }
   ],
   "source": [
    "sample_user_preferences = {\n",
    "    'Cuisine Preference': 'Chinese',\n",
    "    'Price Range': '3',\n",
    "    'Minimum Rating': '4.5',\n",
    "    'Top N Recommendations': 5\n",
    "}\n",
    "\n",
    "sample_recommendations = recommend_restaurants(sample_user_preferences, cosine_similarities, df)\n",
    "\n",
    "print(\"Sample Recommendations:\")\n",
    "print(sample_recommendations)\n"
   ]
  }
 ],
 "metadata": {
  "kernelspec": {
   "display_name": "Python 3 (ipykernel)",
   "language": "python",
   "name": "python3"
  },
  "language_info": {
   "codemirror_mode": {
    "name": "ipython",
    "version": 3
   },
   "file_extension": ".py",
   "mimetype": "text/x-python",
   "name": "python",
   "nbconvert_exporter": "python",
   "pygments_lexer": "ipython3",
   "version": "3.9.13"
  }
 },
 "nbformat": 4,
 "nbformat_minor": 5
}
