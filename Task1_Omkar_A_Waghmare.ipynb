{
 "cells": [
  {
   "cell_type": "code",
   "execution_count": 16,
   "id": "66e84c9e",
   "metadata": {},
   "outputs": [],
   "source": [
    "import pandas as pd"
   ]
  },
  {
   "cell_type": "code",
   "execution_count": 17,
   "id": "da79f7e8",
   "metadata": {},
   "outputs": [],
   "source": [
    "df = pd.read_csv(r\"C:\\Users\\Omkar Waghmare\\OneDrive\\Desktop\\WORK\\COGNIFYZ intern\\Dataset .csv\")"
   ]
  },
  {
   "cell_type": "code",
   "execution_count": 18,
   "id": "253533c7",
   "metadata": {},
   "outputs": [
    {
     "data": {
      "text/html": [
       "<div>\n",
       "<style scoped>\n",
       "    .dataframe tbody tr th:only-of-type {\n",
       "        vertical-align: middle;\n",
       "    }\n",
       "\n",
       "    .dataframe tbody tr th {\n",
       "        vertical-align: top;\n",
       "    }\n",
       "\n",
       "    .dataframe thead th {\n",
       "        text-align: right;\n",
       "    }\n",
       "</style>\n",
       "<table border=\"1\" class=\"dataframe\">\n",
       "  <thead>\n",
       "    <tr style=\"text-align: right;\">\n",
       "      <th></th>\n",
       "      <th>Restaurant ID</th>\n",
       "      <th>Restaurant Name</th>\n",
       "      <th>Country Code</th>\n",
       "      <th>City</th>\n",
       "      <th>Address</th>\n",
       "      <th>Locality</th>\n",
       "      <th>Locality Verbose</th>\n",
       "      <th>Longitude</th>\n",
       "      <th>Latitude</th>\n",
       "      <th>Cuisines</th>\n",
       "      <th>...</th>\n",
       "      <th>Currency</th>\n",
       "      <th>Has Table booking</th>\n",
       "      <th>Has Online delivery</th>\n",
       "      <th>Is delivering now</th>\n",
       "      <th>Switch to order menu</th>\n",
       "      <th>Price range</th>\n",
       "      <th>Aggregate rating</th>\n",
       "      <th>Rating color</th>\n",
       "      <th>Rating text</th>\n",
       "      <th>Votes</th>\n",
       "    </tr>\n",
       "  </thead>\n",
       "  <tbody>\n",
       "    <tr>\n",
       "      <th>9154</th>\n",
       "      <td>6508323</td>\n",
       "      <td>The Urban Foundry</td>\n",
       "      <td>1</td>\n",
       "      <td>Pune</td>\n",
       "      <td>1, Balewadi High Street, Cummins India Office ...</td>\n",
       "      <td>Balewadi High Street, Balewadi</td>\n",
       "      <td>Balewadi High Street, Balewadi, Pune</td>\n",
       "      <td>73.774723</td>\n",
       "      <td>18.569156</td>\n",
       "      <td>North Indian, Asian</td>\n",
       "      <td>...</td>\n",
       "      <td>Indian Rupees(Rs.)</td>\n",
       "      <td>Yes</td>\n",
       "      <td>No</td>\n",
       "      <td>No</td>\n",
       "      <td>No</td>\n",
       "      <td>3</td>\n",
       "      <td>4.5</td>\n",
       "      <td>Dark Green</td>\n",
       "      <td>Excellent</td>\n",
       "      <td>1099</td>\n",
       "    </tr>\n",
       "    <tr>\n",
       "      <th>3404</th>\n",
       "      <td>18435822</td>\n",
       "      <td>Mahavrer Chap Express</td>\n",
       "      <td>1</td>\n",
       "      <td>New Delhi</td>\n",
       "      <td>F-252-A, Sai Chowk, Dilshad Garden, New Delhi</td>\n",
       "      <td>Dilshad Garden</td>\n",
       "      <td>Dilshad Garden, New Delhi</td>\n",
       "      <td>77.318203</td>\n",
       "      <td>28.680840</td>\n",
       "      <td>North Indian</td>\n",
       "      <td>...</td>\n",
       "      <td>Indian Rupees(Rs.)</td>\n",
       "      <td>No</td>\n",
       "      <td>No</td>\n",
       "      <td>No</td>\n",
       "      <td>No</td>\n",
       "      <td>1</td>\n",
       "      <td>0.0</td>\n",
       "      <td>White</td>\n",
       "      <td>Not rated</td>\n",
       "      <td>0</td>\n",
       "    </tr>\n",
       "    <tr>\n",
       "      <th>6240</th>\n",
       "      <td>300672</td>\n",
       "      <td>Chaska</td>\n",
       "      <td>1</td>\n",
       "      <td>New Delhi</td>\n",
       "      <td>G-6, Maya Complex, GU Block, Pitampura, New Delhi</td>\n",
       "      <td>Pitampura</td>\n",
       "      <td>Pitampura, New Delhi</td>\n",
       "      <td>77.145203</td>\n",
       "      <td>28.714723</td>\n",
       "      <td>North Indian, South Indian, Chinese, Fast Food</td>\n",
       "      <td>...</td>\n",
       "      <td>Indian Rupees(Rs.)</td>\n",
       "      <td>No</td>\n",
       "      <td>Yes</td>\n",
       "      <td>No</td>\n",
       "      <td>No</td>\n",
       "      <td>2</td>\n",
       "      <td>3.2</td>\n",
       "      <td>Orange</td>\n",
       "      <td>Average</td>\n",
       "      <td>161</td>\n",
       "    </tr>\n",
       "    <tr>\n",
       "      <th>5265</th>\n",
       "      <td>2932</td>\n",
       "      <td>Rasoi The Food Express</td>\n",
       "      <td>1</td>\n",
       "      <td>New Delhi</td>\n",
       "      <td>38, DDA Market, Jeevan Anmol Hospital, Mayur V...</td>\n",
       "      <td>Mayur Vihar Phase 1</td>\n",
       "      <td>Mayur Vihar Phase 1, New Delhi</td>\n",
       "      <td>77.295353</td>\n",
       "      <td>28.606509</td>\n",
       "      <td>North Indian, Chinese</td>\n",
       "      <td>...</td>\n",
       "      <td>Indian Rupees(Rs.)</td>\n",
       "      <td>No</td>\n",
       "      <td>Yes</td>\n",
       "      <td>No</td>\n",
       "      <td>No</td>\n",
       "      <td>2</td>\n",
       "      <td>2.6</td>\n",
       "      <td>Orange</td>\n",
       "      <td>Average</td>\n",
       "      <td>53</td>\n",
       "    </tr>\n",
       "    <tr>\n",
       "      <th>7217</th>\n",
       "      <td>18380146</td>\n",
       "      <td>Joshi Eating House</td>\n",
       "      <td>1</td>\n",
       "      <td>New Delhi</td>\n",
       "      <td>Main Market, Shakarpur, New Delhi</td>\n",
       "      <td>Shakarpur</td>\n",
       "      <td>Shakarpur, New Delhi</td>\n",
       "      <td>77.280684</td>\n",
       "      <td>28.630046</td>\n",
       "      <td>North Indian</td>\n",
       "      <td>...</td>\n",
       "      <td>Indian Rupees(Rs.)</td>\n",
       "      <td>No</td>\n",
       "      <td>No</td>\n",
       "      <td>No</td>\n",
       "      <td>No</td>\n",
       "      <td>1</td>\n",
       "      <td>0.0</td>\n",
       "      <td>White</td>\n",
       "      <td>Not rated</td>\n",
       "      <td>1</td>\n",
       "    </tr>\n",
       "  </tbody>\n",
       "</table>\n",
       "<p>5 rows × 21 columns</p>\n",
       "</div>"
      ],
      "text/plain": [
       "      Restaurant ID         Restaurant Name  Country Code       City  \\\n",
       "9154        6508323       The Urban Foundry             1       Pune   \n",
       "3404       18435822   Mahavrer Chap Express             1  New Delhi   \n",
       "6240         300672                  Chaska             1  New Delhi   \n",
       "5265           2932  Rasoi The Food Express             1  New Delhi   \n",
       "7217       18380146      Joshi Eating House             1  New Delhi   \n",
       "\n",
       "                                                Address  \\\n",
       "9154  1, Balewadi High Street, Cummins India Office ...   \n",
       "3404      F-252-A, Sai Chowk, Dilshad Garden, New Delhi   \n",
       "6240  G-6, Maya Complex, GU Block, Pitampura, New Delhi   \n",
       "5265  38, DDA Market, Jeevan Anmol Hospital, Mayur V...   \n",
       "7217                  Main Market, Shakarpur, New Delhi   \n",
       "\n",
       "                            Locality                      Locality Verbose  \\\n",
       "9154  Balewadi High Street, Balewadi  Balewadi High Street, Balewadi, Pune   \n",
       "3404                  Dilshad Garden             Dilshad Garden, New Delhi   \n",
       "6240                       Pitampura                  Pitampura, New Delhi   \n",
       "5265             Mayur Vihar Phase 1        Mayur Vihar Phase 1, New Delhi   \n",
       "7217                       Shakarpur                  Shakarpur, New Delhi   \n",
       "\n",
       "      Longitude   Latitude                                        Cuisines  \\\n",
       "9154  73.774723  18.569156                             North Indian, Asian   \n",
       "3404  77.318203  28.680840                                    North Indian   \n",
       "6240  77.145203  28.714723  North Indian, South Indian, Chinese, Fast Food   \n",
       "5265  77.295353  28.606509                           North Indian, Chinese   \n",
       "7217  77.280684  28.630046                                    North Indian   \n",
       "\n",
       "      ...            Currency Has Table booking Has Online delivery  \\\n",
       "9154  ...  Indian Rupees(Rs.)               Yes                  No   \n",
       "3404  ...  Indian Rupees(Rs.)                No                  No   \n",
       "6240  ...  Indian Rupees(Rs.)                No                 Yes   \n",
       "5265  ...  Indian Rupees(Rs.)                No                 Yes   \n",
       "7217  ...  Indian Rupees(Rs.)                No                  No   \n",
       "\n",
       "     Is delivering now Switch to order menu Price range  Aggregate rating  \\\n",
       "9154                No                   No           3               4.5   \n",
       "3404                No                   No           1               0.0   \n",
       "6240                No                   No           2               3.2   \n",
       "5265                No                   No           2               2.6   \n",
       "7217                No                   No           1               0.0   \n",
       "\n",
       "      Rating color Rating text Votes  \n",
       "9154    Dark Green   Excellent  1099  \n",
       "3404         White   Not rated     0  \n",
       "6240        Orange     Average   161  \n",
       "5265        Orange     Average    53  \n",
       "7217         White   Not rated     1  \n",
       "\n",
       "[5 rows x 21 columns]"
      ]
     },
     "execution_count": 18,
     "metadata": {},
     "output_type": "execute_result"
    }
   ],
   "source": [
    "df.sample(5)"
   ]
  },
  {
   "cell_type": "code",
   "execution_count": 19,
   "id": "e1c5b911",
   "metadata": {},
   "outputs": [
    {
     "data": {
      "text/plain": [
       "(9551, 21)"
      ]
     },
     "execution_count": 19,
     "metadata": {},
     "output_type": "execute_result"
    }
   ],
   "source": [
    "df.shape"
   ]
  },
  {
   "cell_type": "code",
   "execution_count": 20,
   "id": "4cdc81ef",
   "metadata": {},
   "outputs": [
    {
     "data": {
      "text/plain": [
       "Index(['Restaurant ID', 'Restaurant Name', 'Country Code', 'City', 'Address',\n",
       "       'Locality', 'Locality Verbose', 'Longitude', 'Latitude', 'Cuisines',\n",
       "       'Average Cost for two', 'Currency', 'Has Table booking',\n",
       "       'Has Online delivery', 'Is delivering now', 'Switch to order menu',\n",
       "       'Price range', 'Aggregate rating', 'Rating color', 'Rating text',\n",
       "       'Votes'],\n",
       "      dtype='object')"
      ]
     },
     "execution_count": 20,
     "metadata": {},
     "output_type": "execute_result"
    }
   ],
   "source": [
    "df.columns"
   ]
  },
  {
   "cell_type": "markdown",
   "id": "4ad7f826",
   "metadata": {},
   "source": [
    "# TASK 1 : Predict Restaurant Rating"
   ]
  },
  {
   "cell_type": "markdown",
   "id": "f5374d54",
   "metadata": {},
   "source": [
    "**Preprocessing data**"
   ]
  },
  {
   "cell_type": "code",
   "execution_count": 21,
   "id": "c10711db",
   "metadata": {},
   "outputs": [
    {
     "name": "stderr",
     "output_type": "stream",
     "text": [
      "C:\\Temp\\ipykernel_6804\\519240301.py:6: FutureWarning: Dropping of nuisance columns in DataFrame reductions (with 'numeric_only=None') is deprecated; in a future version this will raise TypeError.  Select only valid columns before calling the reduction.\n",
      "  df.fillna(df.mean(), inplace=True)\n"
     ]
    },
    {
     "name": "stdout",
     "output_type": "stream",
     "text": [
      "Training set shape: (7640, 16385) (7640,)\n",
      "Testing set shape: (1911, 16385) (1911,)\n"
     ]
    }
   ],
   "source": [
    "import pandas as pd\n",
    "from sklearn.model_selection import train_test_split\n",
    "from sklearn.preprocessing import LabelEncoder, OneHotEncoder\n",
    "from sklearn.compose import ColumnTransformer\n",
    "\n",
    "df.fillna(df.mean(), inplace=True)\n",
    "\n",
    "categorical_columns = ['City', 'Locality', 'Locality Verbose', 'Cuisines', 'Currency', 'Rating color', 'Rating text']\n",
    "\n",
    "label_encoder = LabelEncoder()\n",
    "for column in categorical_columns:\n",
    "    df[column] = label_encoder.fit_transform(df[column])\n",
    "\n",
    "remaining_categorical_columns = df.select_dtypes(include=['object']).columns.tolist()\n",
    "\n",
    "df = pd.get_dummies(df, columns=remaining_categorical_columns)\n",
    "\n",
    "X = df.drop(['Aggregate rating'], axis=1) \n",
    "y = df['Aggregate rating'] \n",
    "X_train, X_test, y_train, y_test = train_test_split(X, y, test_size=0.2, random_state=42)\n",
    "\n",
    "print(\"Training set shape:\", X_train.shape, y_train.shape)\n",
    "print(\"Testing set shape:\", X_test.shape, y_test.shape)\n"
   ]
  },
  {
   "cell_type": "markdown",
   "id": "ff2936a0",
   "metadata": {},
   "source": [
    "**Selecting and fitting suitable regression model**"
   ]
  },
  {
   "cell_type": "code",
   "execution_count": 22,
   "id": "d63f0fcd",
   "metadata": {},
   "outputs": [
    {
     "name": "stdout",
     "output_type": "stream",
     "text": [
      "Mean Squared Error (Decision Tree Regression): 0.04768184196755625\n"
     ]
    }
   ],
   "source": [
    "from sklearn.tree import DecisionTreeRegressor\n",
    "from sklearn.metrics import mean_squared_error\n",
    "\n",
    "decision_tree_model = DecisionTreeRegressor(random_state=42)\n",
    "\n",
    "decision_tree_model.fit(X_train, y_train)\n",
    "\n",
    "y_test_pred_tree = decision_tree_model.predict(X_test)\n",
    "\n",
    "mse_tree = mean_squared_error(y_test, y_test_pred_tree)\n",
    "\n",
    "print(\"Mean Squared Error (Decision Tree Regression):\", mse_tree)\n"
   ]
  },
  {
   "cell_type": "code",
   "execution_count": 23,
   "id": "7c4b5ecf",
   "metadata": {},
   "outputs": [
    {
     "name": "stdout",
     "output_type": "stream",
     "text": [
      "R-squared (Decision Tree Regression): 0.9790511604802049\n"
     ]
    }
   ],
   "source": [
    "from sklearn.metrics import r2_score\n",
    "\n",
    "r2_tree = r2_score(y_test, y_test_pred_tree)\n",
    "\n",
    "print(\"R-squared (Decision Tree Regression):\", r2_tree)\n"
   ]
  },
  {
   "cell_type": "markdown",
   "id": "fa0e2788",
   "metadata": {},
   "source": [
    "**feature affecting restaurant ratings**"
   ]
  },
  {
   "cell_type": "code",
   "execution_count": 24,
   "id": "1e1537f0",
   "metadata": {},
   "outputs": [
    {
     "name": "stdout",
     "output_type": "stream",
     "text": [
      "Top 10 most important features:\n",
      "                 Feature  Importance\n",
      "13                 Votes    0.898974\n",
      "11          Rating color    0.086808\n",
      "12           Rating text    0.002580\n",
      "0          Restaurant ID    0.002064\n",
      "5              Longitude    0.001143\n",
      "6               Latitude    0.001086\n",
      "7               Cuisines    0.000885\n",
      "8   Average Cost for two    0.000753\n",
      "4       Locality Verbose    0.000523\n",
      "3               Locality    0.000434\n"
     ]
    }
   ],
   "source": [
    "feature_importance = decision_tree_model.feature_importances_\n",
    "\n",
    "feature_importance_df = pd.DataFrame({'Feature': X.columns, 'Importance': feature_importance})\n",
    "feature_importance_df = feature_importance_df.sort_values(by='Importance', ascending=False)\n",
    "\n",
    "top_features = 10 \n",
    "print(\"Top\", top_features, \"most important features:\")\n",
    "print(feature_importance_df.head(top_features))\n"
   ]
  },
  {
   "cell_type": "code",
   "execution_count": 25,
   "id": "c47abd5f",
   "metadata": {},
   "outputs": [
    {
     "data": {
      "image/png": "[encoded data removed]",
      "text/plain": [
       "<Figure size 1000x600 with 1 Axes>"
      ]
     },
     "metadata": {},
     "output_type": "display_data"
    }
   ],
   "source": [
    "import matplotlib.pyplot as plt\n",
    "\n",
    "plt.figure(figsize=(10, 6))\n",
    "plt.barh(feature_importance_df['Feature'][:top_features], feature_importance_df['Importance'][:top_features])\n",
    "plt.xlabel('Importance')\n",
    "plt.title('Top Features affecting Restaurant Ratings (Decision Tree Regression)')\n",
    "plt.show()\n"
   ]
  },
  {
   "cell_type": "markdown",
   "id": "de614b73",
   "metadata": {},
   "source": [
    "**interpreting result of predicting restaurant rating**"
   ]
  },
  {
   "cell_type": "code",
   "execution_count": 26,
   "id": "e5b985cf",
   "metadata": {},
   "outputs": [
    {
     "name": "stdout",
     "output_type": "stream",
     "text": [
      "Sample of Actual vs Predicted Ratings:\n",
      "      Actual Rating  Predicted Rating\n",
      "4731            2.1               2.3\n",
      "1468            4.1               4.1\n",
      "9037            3.2               3.0\n",
      "7866            4.4               4.0\n",
      "5570            3.5               3.5\n",
      "5613            0.0               0.0\n",
      "7751            3.2               2.7\n",
      "1662            0.0               0.0\n",
      "8592            3.6               3.5\n",
      "2164            4.0               4.4\n"
     ]
    },
    {
     "data": {
      "image/png": "[encoded data removed]",
      "text/plain": [
       "<Figure size 1000x600 with 1 Axes>"
      ]
     },
     "metadata": {},
     "output_type": "display_data"
    }
   ],
   "source": [
    "sample_predictions = pd.DataFrame({\n",
    "    'Actual Rating': y_test,\n",
    "    'Predicted Rating': y_test_pred_tree\n",
    "})\n",
    "\n",
    "print(\"Sample of Actual vs Predicted Ratings:\")\n",
    "print(sample_predictions.head(10))\n",
    "\n",
    "plt.figure(figsize=(10, 6))\n",
    "plt.scatter(y_test, y_test_pred_tree, alpha=0.5)\n",
    "plt.xlabel('Actual Ratings')\n",
    "plt.ylabel('Predicted Ratings')\n",
    "plt.title('Actual vs Predicted Ratings (Decision Tree Regression)')\n",
    "plt.show()\n"
   ]
  }
 ],
 "metadata": {
  "kernelspec": {
   "display_name": "Python 3 (ipykernel)",
   "language": "python",
   "name": "python3"
  },
  "language_info": {
   "codemirror_mode": {
    "name": "ipython",
    "version": 3
   },
   "file_extension": ".py",
   "mimetype": "text/x-python",
   "name": "python",
   "nbconvert_exporter": "python",
   "pygments_lexer": "ipython3",
   "version": "3.9.13"
  }
 },
 "nbformat": 4,
 "nbformat_minor": 5
}
